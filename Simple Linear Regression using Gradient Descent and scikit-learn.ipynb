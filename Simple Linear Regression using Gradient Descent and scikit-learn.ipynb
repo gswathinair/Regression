{
 "cells": [
  {
   "cell_type": "markdown",
   "metadata": {},
   "source": [
    "Linear Regression which is the simplest and most understood ML algorithm, can be divided into two : Simple and Multi Linear Regression."
   ]
  },
  {
   "cell_type": "markdown",
   "metadata": {},
   "source": [
    "In simple linear regression, we have two variables namely: independant variable and dependant or target variable. Here we map the relationship between the two variables by representing the target with a function of the dependant variable.\n",
    "\n",
    "There are numerous ways to perform linear regression on a data set. Here we utilize the below methods to perform gradient descent on a data set.\n",
    "1) Simple linear regression using Gradient Descent\n",
    "2) Regression using python library scikit-learn\n"
   ]
  },
  {
   "cell_type": "markdown",
   "metadata": {},
   "source": [
    "In the below example we use the data set to predict the target, by performing gradient descent on it. Firstly let us import the dataset and visualize it using seaborn.\n",
    "The data set is a csv file with just two columns. 1)Total hours spent in studies by individual students 2)The marks scored in exam.\n",
    "Importing the library numpy library for the same."
   ]
  },
  {
   "cell_type": "code",
   "execution_count": 1,
   "metadata": {},
   "outputs": [],
   "source": [
    "import numpy as np\n",
    "#genfromtxt completes the task in two different loops.\n",
    "# The first loop converts each line of the file in a sequence of strings.\n",
    "# The second loop converts each string to the appropriate data type. data_points is a numpy ndarray\n",
    "data_points = np.genfromtxt('./data.csv', delimiter=',')"
   ]
  },
  {
   "cell_type": "code",
   "execution_count": 2,
   "metadata": {},
   "outputs": [
    {
     "name": "stdout",
     "output_type": "stream",
     "text": [
      "<class 'numpy.ndarray'>\n",
      "(100, 2)\n"
     ]
    }
   ],
   "source": [
    "print(type(data_points))\n",
    "print(data_points.shape)"
   ]
  },
  {
   "cell_type": "code",
   "execution_count": 3,
   "metadata": {},
   "outputs": [
    {
     "name": "stdout",
     "output_type": "stream",
     "text": [
      "[[32.50234527 31.70700585]\n",
      " [53.42680403 68.77759598]\n",
      " [61.53035803 62.5623823 ]\n",
      " [47.47563963 71.54663223]\n",
      " [59.81320787 87.23092513]\n",
      " [55.14218841 78.21151827]\n",
      " [52.21179669 79.64197305]\n",
      " [39.29956669 59.17148932]\n",
      " [48.10504169 75.3312423 ]\n",
      " [52.55001444 71.30087989]]\n"
     ]
    }
   ],
   "source": [
    "print(data_points[0:10])"
   ]
  },
  {
   "cell_type": "markdown",
   "metadata": {},
   "source": [
    "Visualizing the imported data using seaborn.\n",
    "Using seaborn, scatterplots are made using the regplot() function. Here is an example showing the most basic utilization of this function. You have to provide at least 2 lists: the positions of points on the X and Y axis. By default, a linear regression fit is drawn, you can remove it with fit_reg=False"
   ]
  },
  {
   "cell_type": "code",
   "execution_count": 26,
   "metadata": {},
   "outputs": [
    {
     "data": {
      "image/png": "[encoded data removed]",
      "text/plain": [
       "<Figure size 432x288 with 1 Axes>"
      ]
     },
     "metadata": {
      "needs_background": "light"
     },
     "output_type": "display_data"
    }
   ],
   "source": [
    "import seaborn as sns\n",
    "import matplotlib.pyplot as plt \n",
    "#using the regplot function of seaborn to plot the scatter plot, fit_reg=False to not plot line of best fit\n",
    "sns.regplot(x=data_points[:,0], y=data_points[:,1],fit_reg=False) \n",
    "plt.title('Study hrs vs Marks')  \n",
    "plt.xlabel('Study hrs')  \n",
    "plt.ylabel('Marks')  \n",
    "plt.show()"
   ]
  },
  {
   "cell_type": "markdown",
   "metadata": {},
   "source": [
    "Now we write the code to perform the gradient descent."
   ]
  },
  {
   "cell_type": "code",
   "execution_count": 5,
   "metadata": {},
   "outputs": [],
   "source": [
    "def cost_function_value(c,m, points):\n",
    "    cost=0\n",
    "    for i in range (0,len(points)):\n",
    "        x = points[i,0]\n",
    "        y = points[i,1]\n",
    "        cost+=(y - ((m*x)+c))**2\n",
    "    return cost/(2* len(points))\n",
    "\n",
    "def cal_new_parameters(c,m,learningrate,num_iter, points):\n",
    "\n",
    "    for i in range(0,num_iter):\n",
    "        c_grad = 0\n",
    "        m_grad = 0\n",
    "        N=float(len(points))\n",
    "        for j in range(0,len(points)):\n",
    "            x = points[j, 0]\n",
    "            y = points[j, 1]\n",
    "            #b_gradient += -(2 / N) * (y - ((m_current * x) + b_current))\n",
    "            #m_gradient += -(2 / N) * x * (y - ((m_current * x) + b_current))\n",
    "            c_grad +=  ( (( m * x )+ c) - y)\n",
    "            m_grad +=  ( ((m * x) + c)- y )* x\n",
    "        c = c - (learningrate * c_grad)/N\n",
    "        m = m - (learningrate * m_grad)/N\n",
    "    return [c,m]\n",
    "\n",
    "def run():\n",
    "    data_points = np.genfromtxt('C:/Users/Rakesh/Desktop/DataScience/Jupyter Notebooks/data.csv', delimiter=',')\n",
    "    learning_rate=0.0001\n",
    "    #Considering the equation of the line of best fit as y=mx+c, we define the following variables\n",
    "    initial_c=0\n",
    "    initial_m=0\n",
    "    num_iterations=1000\n",
    "    print ('Starting gradient descent. Values c={0},m={1},error={2}'.format(initial_c, initial_m, cost_function_value(initial_c,initial_m,data_points)))\n",
    "    print('Running...')\n",
    "    [c,m]= cal_new_parameters(initial_c, initial_m,learning_rate, num_iterations, data_points)\n",
    "    print('The new parameters calculated after {0} iterations were c={1} and m={2} and error = {3}'.format(num_iterations,round(c,2),round(m,2),cost_function_value(c,m,data_points)))\n",
    "\n"
   ]
  },
  {
   "cell_type": "code",
   "execution_count": 6,
   "metadata": {},
   "outputs": [
    {
     "name": "stdout",
     "output_type": "stream",
     "text": [
      "Starting gradient descent. Values c=0,m=0,error=2782.5539172416056\n",
      "Running...\n",
      "The new parameters calculated after 1000 iterations were c=0.06 and m=1.48 and error = 56.316335393554716\n"
     ]
    }
   ],
   "source": [
    "#Calling the function run to execute the above code\n",
    "run()"
   ]
  },
  {
   "cell_type": "markdown",
   "metadata": {},
   "source": [
    "In the above code, we have obtained the y intercept and slope of the line of best fit, which is obtrained after gradient descent.\n",
    "Let us now predict the marks obtained by a student who has studied for 30 hours."
   ]
  },
  {
   "cell_type": "code",
   "execution_count": 7,
   "metadata": {},
   "outputs": [
    {
     "name": "stdout",
     "output_type": "stream",
     "text": [
      "44.46\n"
     ]
    }
   ],
   "source": [
    "print(1.48*30 + 0.06)"
   ]
  },
  {
   "cell_type": "markdown",
   "metadata": {},
   "source": [
    "Regression using scikit-learn\n",
    "Importing the scikit-learn library."
   ]
  },
  {
   "cell_type": "code",
   "execution_count": 65,
   "metadata": {},
   "outputs": [],
   "source": [
    "#importing all the necessary libraries\n",
    "\n",
    "from sklearn.model_selection import train_test_split\n",
    "from sklearn.linear_model import LinearRegression\n",
    "from sklearn import metrics\n",
    "import pandas as pd"
   ]
  },
  {
   "cell_type": "code",
   "execution_count": 39,
   "metadata": {},
   "outputs": [
    {
     "data": {
      "text/plain": [
       "<matplotlib.axes._subplots.AxesSubplot at 0x2581f3e5b70>"
      ]
     },
     "execution_count": 39,
     "metadata": {},
     "output_type": "execute_result"
    },
    {
     "data": {
      "image/png": "[encoded data removed]",
      "text/plain": [
       "<Figure size 432x288 with 1 Axes>"
      ]
     },
     "metadata": {
      "needs_background": "light"
     },
     "output_type": "display_data"
    }
   ],
   "source": [
    "#Plotting the target to understand the distribution\n",
    "sns.distplot(data_points[:,1])"
   ]
  },
  {
   "cell_type": "code",
   "execution_count": 55,
   "metadata": {},
   "outputs": [],
   "source": [
    "#Reshaping the arrays from 1d to 2d to pass as input to the fit and predict functions.\n",
    "# you want a COLUMN vector (many samples, 1 feature), use reshape(-1,1)\n",
    "\n",
    "X = data_points[:,0]\n",
    "Y = data_points[:,1]\n",
    "X= X.reshape(-1,1)\n",
    "Y= Y.reshape(-1,1)\n",
    "\n",
    "#train_test_split function allows us to split the dataset into training and test data based on \n",
    "#the value defined in the parameter: test_data.\n",
    "X_train, X_test, Y_train, Y_test = train_test_split(X, Y, test_size=0.25, random_state=10)"
   ]
  },
  {
   "cell_type": "code",
   "execution_count": 56,
   "metadata": {},
   "outputs": [],
   "source": [
    "#Creating and object named reg of the class LinearRegression\n",
    "reg = LinearRegression()"
   ]
  },
  {
   "cell_type": "code",
   "execution_count": 57,
   "metadata": {},
   "outputs": [
    {
     "data": {
      "text/plain": [
       "LinearRegression(copy_X=True, fit_intercept=True, n_jobs=None,\n",
       "         normalize=False)"
      ]
     },
     "execution_count": 57,
     "metadata": {},
     "output_type": "execute_result"
    }
   ],
   "source": [
    "#Fitting the training data set into the regression model using fit function\n",
    "#training the algorithm\n",
    "reg.fit(X_train,Y_train)"
   ]
  },
  {
   "cell_type": "code",
   "execution_count": 58,
   "metadata": {},
   "outputs": [
    {
     "name": "stdout",
     "output_type": "stream",
     "text": [
      "[8.22008375]\n",
      "[[1.31131611]]\n"
     ]
    }
   ],
   "source": [
    "#To retrieve the intercept:\n",
    "print(reg.intercept_)\n",
    "#For retrieving the slope:\n",
    "print(reg.coef_)"
   ]
  },
  {
   "cell_type": "code",
   "execution_count": 59,
   "metadata": {},
   "outputs": [],
   "source": [
    "test_pred = reg.predict(X_test)"
   ]
  },
  {
   "cell_type": "code",
   "execution_count": 60,
   "metadata": {},
   "outputs": [
    {
     "data": {
      "text/html": [
       "<div>\n",
       "<style scoped>\n",
       "    .dataframe tbody tr th:only-of-type {\n",
       "        vertical-align: middle;\n",
       "    }\n",
       "\n",
       "    .dataframe tbody tr th {\n",
       "        vertical-align: top;\n",
       "    }\n",
       "\n",
       "    .dataframe thead th {\n",
       "        text-align: right;\n",
       "    }\n",
       "</style>\n",
       "<table border=\"1\" class=\"dataframe\">\n",
       "  <thead>\n",
       "    <tr style=\"text-align: right;\">\n",
       "      <th></th>\n",
       "      <th>Actual</th>\n",
       "      <th>Predicted</th>\n",
       "    </tr>\n",
       "  </thead>\n",
       "  <tbody>\n",
       "    <tr>\n",
       "      <th>0</th>\n",
       "      <td>56.877213</td>\n",
       "      <td>59.121202</td>\n",
       "    </tr>\n",
       "    <tr>\n",
       "      <th>1</th>\n",
       "      <td>81.436192</td>\n",
       "      <td>82.607386</td>\n",
       "    </tr>\n",
       "    <tr>\n",
       "      <th>2</th>\n",
       "      <td>61.424710</td>\n",
       "      <td>65.748325</td>\n",
       "    </tr>\n",
       "    <tr>\n",
       "      <th>3</th>\n",
       "      <td>50.719589</td>\n",
       "      <td>51.616559</td>\n",
       "    </tr>\n",
       "    <tr>\n",
       "      <th>4</th>\n",
       "      <td>85.498068</td>\n",
       "      <td>81.824767</td>\n",
       "    </tr>\n",
       "    <tr>\n",
       "      <th>5</th>\n",
       "      <td>71.546632</td>\n",
       "      <td>70.475655</td>\n",
       "    </tr>\n",
       "    <tr>\n",
       "      <th>6</th>\n",
       "      <td>44.847124</td>\n",
       "      <td>59.302100</td>\n",
       "    </tr>\n",
       "    <tr>\n",
       "      <th>7</th>\n",
       "      <td>58.569825</td>\n",
       "      <td>65.024046</td>\n",
       "    </tr>\n",
       "    <tr>\n",
       "      <th>8</th>\n",
       "      <td>62.124571</td>\n",
       "      <td>55.999210</td>\n",
       "    </tr>\n",
       "    <tr>\n",
       "      <th>9</th>\n",
       "      <td>70.251934</td>\n",
       "      <td>87.252076</td>\n",
       "    </tr>\n",
       "    <tr>\n",
       "      <th>10</th>\n",
       "      <td>62.562382</td>\n",
       "      <td>88.905834</td>\n",
       "    </tr>\n",
       "    <tr>\n",
       "      <th>11</th>\n",
       "      <td>68.777596</td>\n",
       "      <td>78.279513</td>\n",
       "    </tr>\n",
       "    <tr>\n",
       "      <th>12</th>\n",
       "      <td>61.684038</td>\n",
       "      <td>62.222725</td>\n",
       "    </tr>\n",
       "    <tr>\n",
       "      <th>13</th>\n",
       "      <td>65.280887</td>\n",
       "      <td>62.929079</td>\n",
       "    </tr>\n",
       "    <tr>\n",
       "      <th>14</th>\n",
       "      <td>81.536991</td>\n",
       "      <td>73.825457</td>\n",
       "    </tr>\n",
       "    <tr>\n",
       "      <th>15</th>\n",
       "      <td>104.257102</td>\n",
       "      <td>100.466026</td>\n",
       "    </tr>\n",
       "    <tr>\n",
       "      <th>16</th>\n",
       "      <td>114.853871</td>\n",
       "      <td>98.393699</td>\n",
       "    </tr>\n",
       "    <tr>\n",
       "      <th>17</th>\n",
       "      <td>95.455053</td>\n",
       "      <td>83.371615</td>\n",
       "    </tr>\n",
       "    <tr>\n",
       "      <th>18</th>\n",
       "      <td>59.358850</td>\n",
       "      <td>62.118697</td>\n",
       "    </tr>\n",
       "    <tr>\n",
       "      <th>19</th>\n",
       "      <td>54.084055</td>\n",
       "      <td>60.891586</td>\n",
       "    </tr>\n",
       "    <tr>\n",
       "      <th>20</th>\n",
       "      <td>67.170656</td>\n",
       "      <td>51.415466</td>\n",
       "    </tr>\n",
       "    <tr>\n",
       "      <th>21</th>\n",
       "      <td>50.392670</td>\n",
       "      <td>49.642091</td>\n",
       "    </tr>\n",
       "    <tr>\n",
       "      <th>22</th>\n",
       "      <td>80.166275</td>\n",
       "      <td>58.207223</td>\n",
       "    </tr>\n",
       "    <tr>\n",
       "      <th>23</th>\n",
       "      <td>115.244153</td>\n",
       "      <td>90.829695</td>\n",
       "    </tr>\n",
       "    <tr>\n",
       "      <th>24</th>\n",
       "      <td>91.486778</td>\n",
       "      <td>83.626705</td>\n",
       "    </tr>\n",
       "  </tbody>\n",
       "</table>\n",
       "</div>"
      ],
      "text/plain": [
       "        Actual   Predicted\n",
       "0    56.877213   59.121202\n",
       "1    81.436192   82.607386\n",
       "2    61.424710   65.748325\n",
       "3    50.719589   51.616559\n",
       "4    85.498068   81.824767\n",
       "5    71.546632   70.475655\n",
       "6    44.847124   59.302100\n",
       "7    58.569825   65.024046\n",
       "8    62.124571   55.999210\n",
       "9    70.251934   87.252076\n",
       "10   62.562382   88.905834\n",
       "11   68.777596   78.279513\n",
       "12   61.684038   62.222725\n",
       "13   65.280887   62.929079\n",
       "14   81.536991   73.825457\n",
       "15  104.257102  100.466026\n",
       "16  114.853871   98.393699\n",
       "17   95.455053   83.371615\n",
       "18   59.358850   62.118697\n",
       "19   54.084055   60.891586\n",
       "20   67.170656   51.415466\n",
       "21   50.392670   49.642091\n",
       "22   80.166275   58.207223\n",
       "23  115.244153   90.829695\n",
       "24   91.486778   83.626705"
      ]
     },
     "execution_count": 60,
     "metadata": {},
     "output_type": "execute_result"
    }
   ],
   "source": [
    "#Now compare the actual output values for X_test with the predicted values, let us execute the following\n",
    "df = pd.DataFrame({'Actual': Y_test.flatten(), 'Predicted': test_pred.flatten()})\n",
    "df"
   ]
  },
  {
   "cell_type": "code",
   "execution_count": 62,
   "metadata": {},
   "outputs": [
    {
     "data": {
      "image/png": "[encoded data removed]",
      "text/plain": [
       "<Figure size 720x504 with 1 Axes>"
      ]
     },
     "metadata": {
      "needs_background": "light"
     },
     "output_type": "display_data"
    }
   ],
   "source": [
    "#Let`s plot a bargraph to see the actual vs predicted values of test data set.\n",
    "df.plot(kind='bar',figsize=(10,7))\n",
    "plt.grid(which='major', linestyle='-', linewidth='0.5', color='green')\n",
    "plt.grid(which='minor', linestyle=':', linewidth='0.5', color='black')\n",
    "plt.show()"
   ]
  },
  {
   "cell_type": "code",
   "execution_count": 63,
   "metadata": {},
   "outputs": [
    {
     "data": {
      "image/png": "[encoded data removed]",
      "text/plain": [
       "<Figure size 432x288 with 1 Axes>"
      ]
     },
     "metadata": {
      "needs_background": "light"
     },
     "output_type": "display_data"
    }
   ],
   "source": [
    "#Though our model is not very precise, the predicted percentages are close to the actual ones. \n",
    "#Let's plot our straight line with the test data :\n",
    "plt.scatter(X_test, Y_test,  color='gray')\n",
    "plt.plot(X_test, test_pred, color='red', linewidth=2)\n",
    "plt.show()"
   ]
  },
  {
   "cell_type": "code",
   "execution_count": 66,
   "metadata": {},
   "outputs": [
    {
     "name": "stdout",
     "output_type": "stream",
     "text": [
      "Mean Absolute Error: 8.660142276127624\n",
      "Mean Squared Error: 133.65362030769106\n",
      "Root Mean Squared Error: 11.560865897833564\n"
     ]
    }
   ],
   "source": [
    "#Let us calculate the error for the above prediction: We can use any of the following matrices:\n",
    "\n",
    "print('Mean Absolute Error:', metrics.mean_absolute_error(Y_test, test_pred))  \n",
    "print('Mean Squared Error:', metrics.mean_squared_error(Y_test, test_pred))  \n",
    "print('Root Mean Squared Error:', np.sqrt(metrics.mean_squared_error(Y_test, test_pred)))"
   ]
  }
 ],
 "metadata": {
  "kernelspec": {
   "display_name": "Python 3",
   "language": "python",
   "name": "python3"
  },
  "language_info": {
   "codemirror_mode": {
    "name": "ipython",
    "version": 3
   },
   "file_extension": ".py",
   "mimetype": "text/x-python",
   "name": "python",
   "nbconvert_exporter": "python",
   "pygments_lexer": "ipython3",
   "version": "3.7.1"
  }
 },
 "nbformat": 4,
 "nbformat_minor": 2
}
